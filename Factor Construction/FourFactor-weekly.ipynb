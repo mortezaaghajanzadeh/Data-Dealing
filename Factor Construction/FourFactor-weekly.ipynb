{
 "cells": [
  {
   "cell_type": "code",
   "execution_count": 1,
   "metadata": {},
   "outputs": [],
   "source": [
    "import pandas as pd\n",
    "import statsmodels.api as sm\n",
    "import numpy as np\n",
    "import matplotlib as plt\n",
    "import re"
   ]
  },
  {
   "cell_type": "code",
   "execution_count": 34,
   "metadata": {},
   "outputs": [],
   "source": [
    "def vv4(row):\n",
    "    row = str(row)\n",
    "    X = [1,1,1]\n",
    "    X[0] = row[0:4]\n",
    "    X[1] = row[4:6]\n",
    "    X[2] = row[6:8]\n",
    "    return X[0]+'-'+X[1]+'-'+X[2]\n",
    "\n",
    "def vv(row):\n",
    "    X = row.split('-')\n",
    "    return X[0]+X[1]+X[2]\n",
    "\n",
    "def vv2(row):\n",
    "    X = row.split('/')\n",
    "    return X[0]\n",
    "\n",
    "def DriveYearMonthDay(d):\n",
    "    d['jalaliDate'] = d['jalaliDate'].astype(str)\n",
    "    d['Year'] = d['jalaliDate'].str[0:4]\n",
    "    d['Month'] = d['jalaliDate'].str[4:6]\n",
    "    d['Day'] = d['jalaliDate'].str[6:8]\n",
    "    d['jalaliDate'] = d['jalaliDate'].astype(int)\n",
    "    return d\n",
    "\n",
    "\n",
    "def convert_ar_characters(input_str):\n",
    "\n",
    "    mapping = {\n",
    "        'ك': 'ک',\n",
    "        'گ':'گ',\n",
    "        'دِ': 'د',\n",
    "        'بِ': 'ب',\n",
    "        'زِ': 'ز',\n",
    "        'ذِ': 'ذ',\n",
    "        'شِ': 'ش',\n",
    "        'سِ': 'س',\n",
    "        'ى': 'ی',\n",
    "        'ي': 'ی'\n",
    "    }\n",
    "    return _multiple_replace(mapping, input_str)\n",
    "\n",
    "\n",
    "def _multiple_replace(mapping, text):\n",
    "    pattern = \"|\".join(map(ree.escape, mapping.keys()))\n",
    "    return re.sub(pattern, lambda m: mapping[m.group()], str(text))"
   ]
  },
  {
   "cell_type": "code",
   "execution_count": 3,
   "metadata": {
    "scrolled": true
   },
   "outputs": [],
   "source": [
    "path = r\"H:\\Economics\\Finance(Prof.Heidari-Aghajanzadeh)\\Data\"\n",
    "n = path + '\\Cleaned_Stocks_Holders_1399-07-21_From96.csv'\n",
    "df = pd.read_csv(n)\n",
    "#######\n",
    "df = df.drop(df.loc[df['Holder']=='شخص حقیقی'].index)\n",
    "df = df.drop(df[(df['Trade']=='No')&((df['close_price']==10)|(df['close_price']==1000)|(df['close_price']==10000)|(df['close_price']==100000))].index)\n",
    "df = df.drop(df[(df['symbol'] == 'وقوام')&(df['close_price'] == 1000)].index)\n",
    "symbols = [ 'سپرده','هما','وهنر-پذیره','نکالا','تکالا','اکالا','توسعه گردشگری ','وآفر','ودانا','نشار','نبورس','چبسپا','بدکو','چکارم','تراک','کباده','فبستم','تولیددارو','قیستو','خلیبل','پشاهن','قاروم','هوایی سامان','کورز','شلیا','دتهران','نگین','کایتا','غیوان','تفیرو','سپرمی','بتک']\n",
    "df = df.drop(df[df['symbol'].isin(symbols)].index)\n",
    "df = df.drop(df[(df.symbol == 'اتکای')&(df.close_price == 1000)].index)\n",
    "HolderData = df"
   ]
  },
  {
   "cell_type": "code",
   "execution_count": null,
   "metadata": {},
   "outputs": [],
   "source": []
  },
  {
   "cell_type": "code",
   "execution_count": 56,
   "metadata": {},
   "outputs": [],
   "source": [
    "path = r\"H:\\Economics\\Finance(Prof.Heidari-Aghajanzadeh)\\Data\"\n",
    "n1 = path + '\\Stocks_Prices_1399-07-20' + '.csv'\n",
    "df1 = pd.read_csv(n1)\n",
    "############\n",
    "df1['jalaliDate'] = df1['jalaliDate'].apply(vv)\n",
    "df = df1\n",
    "symbols = [ 'سپرده','هما','وهنر-پذيره','نکالا','تکالا','اکالا','توسعه گردشگری ','وآفر','ودانا','نشار','نبورس','چبسپا','بدکو','چکارم','تراک','کباده','فبستم','تولیددارو','قیستو','خلیبل','پشاهن','قاروم','هوایی سامان','کورز','شلیا','دتهران','نگین','کایتا','غیوان','تفیرو','سپرمی','بتک']\n",
    "df = df.drop(df[df['name'].isin(symbols)].index)\n",
    "df = df.drop(df[df.group_name== 'صندوق سرمایه گذاری قابل معامله'].index)\n",
    "df = df.drop(df[(df.name == 'اتکای')&(df.close_price == 1000)].index)\n",
    "df = df.drop_duplicates()\n",
    "df = df.drop(df.loc[(df['volume'] == 0)].index).sort_values(by =['name','jalaliDate']).drop(columns = ['volume','quantity']).rename(columns = {'name':'symbol'})\n",
    "df = DriveYearMonthDay(df)\n",
    "col = 'symbol'\n",
    "df[col] = df[col].apply(lambda x: convert_ar_characters(x))"
   ]
  },
  {
   "cell_type": "code",
   "execution_count": 64,
   "metadata": {},
   "outputs": [],
   "source": [
    "PriceData = df"
   ]
  },
  {
   "cell_type": "code",
   "execution_count": null,
   "metadata": {},
   "outputs": [],
   "source": []
  },
  {
   "cell_type": "code",
   "execution_count": 57,
   "metadata": {
    "scrolled": true
   },
   "outputs": [],
   "source": [
    "n2 = path + '\\\\balance sheet - 9811' + '.xlsx'\n",
    "df2 = pd.read_excel(n2)\n",
    "df2 = df2.iloc[:,[0,4,13,-7]]\n",
    "df2.rename(columns={ df2.columns[0]: \"symbol\" ,df2.columns[1]: \"date\" ,df2.columns[2]: \"BookValue\" ,df2.columns[3] : \"Capital\"}, inplace = True)\n",
    "df2['shrout'] = df2['Capital'] * 100\n",
    "df2['Year'] = df2['date'].apply(vv2)\n",
    "df2['Year'] = df2['Year'].astype(str)\n",
    "df2 = df2.drop(columns = ['date','Capital'])\n",
    "col = 'symbol'\n",
    "df2[col] = df2[col].apply(lambda x: convert_ar_characters(x))"
   ]
  },
  {
   "cell_type": "code",
   "execution_count": 132,
   "metadata": {},
   "outputs": [],
   "source": [
    "PriceData = df\n",
    "PriceData = PriceData.merge(df2,on=['symbol','Year'],how = 'left')\n",
    "PriceData[['BookValue','shrout']] = PriceData[['BookValue','shrout']].fillna(method='ffill')"
   ]
  },
  {
   "cell_type": "code",
   "execution_count": null,
   "metadata": {},
   "outputs": [],
   "source": []
  },
  {
   "cell_type": "code",
   "execution_count": 133,
   "metadata": {
    "scrolled": true
   },
   "outputs": [],
   "source": [
    "PriceData = PriceData[['jalaliDate', 'date', 'symbol','close_price','shrout','BookValue']]\n",
    "PriceData['date1'] = PriceData['date'].apply(vv4)\n",
    "PriceData['date1'] = pd.to_datetime(PriceData['date1']) \n",
    "PriceData['week_of_year'] = PriceData['date1'].dt.week \n",
    "PriceData['year_of_year'] = PriceData['date1'].dt.year"
   ]
  },
  {
   "cell_type": "code",
   "execution_count": null,
   "metadata": {
    "scrolled": true
   },
   "outputs": [],
   "source": []
  },
  {
   "cell_type": "code",
   "execution_count": 135,
   "metadata": {},
   "outputs": [],
   "source": [
    "def weekRet(g):\n",
    "    g['weekRet'] = (g.close_price.iloc[-1] - g.close_price.iloc[0])/g.close_price.iloc[0] * 100\n",
    "    return g\n",
    "\n",
    "gg = PriceData.groupby(['symbol', 'year_of_year','week_of_year'])\n",
    "d = gg.apply(weekRet)\n",
    "#Don't Delete this cell"
   ]
  },
  {
   "cell_type": "code",
   "execution_count": null,
   "metadata": {},
   "outputs": [],
   "source": []
  },
  {
   "cell_type": "code",
   "execution_count": 136,
   "metadata": {},
   "outputs": [],
   "source": [
    "def yearRet(g):\n",
    "    f = g.groupby(['year_of_year']).last().reset_index()\n",
    "    f['yearRet'] = f['close_price'].pct_change(periods = 1)*100\n",
    "    f = f[['year_of_year','symbol','week_of_year','yearRet']]\n",
    "    g = g.merge(f,on = ['year_of_year','symbol','week_of_year'])\n",
    "    return g\n",
    "\n",
    "gg = d.groupby(['symbol', 'week_of_year'])\n",
    "d2 = gg.apply(yearRet)"
   ]
  },
  {
   "cell_type": "code",
   "execution_count": null,
   "metadata": {},
   "outputs": [],
   "source": []
  },
  {
   "cell_type": "code",
   "execution_count": 144,
   "metadata": {},
   "outputs": [],
   "source": [
    "PriceData = d2.reset_index(drop = True)\n",
    "PriceData = PriceData.sort_values(by = ['symbol','date'])"
   ]
  },
  {
   "cell_type": "code",
   "execution_count": null,
   "metadata": {},
   "outputs": [],
   "source": []
  },
  {
   "cell_type": "code",
   "execution_count": 146,
   "metadata": {},
   "outputs": [],
   "source": [
    "shrout = HolderData[['symbol','shrout','date','jalaliDate']].drop_duplicates()\n",
    "fkey = zip(list(shrout.symbol),list(shrout.date))\n",
    "mapingdict = dict(zip(fkey,shrout.shrout))\n",
    "PriceData['shrout2'] = PriceData.set_index(['symbol','date']).index.map(mapingdict)\n",
    "PriceData.loc[~PriceData.shrout2.isnull(),'shrout'] = PriceData.loc[~PriceData.shrout2.isnull()]['shrout2'] \n",
    "PriceData = PriceData.drop(columns = ['shrout2'])"
   ]
  },
  {
   "cell_type": "code",
   "execution_count": null,
   "metadata": {
    "scrolled": true
   },
   "outputs": [],
   "source": []
  },
  {
   "cell_type": "code",
   "execution_count": 148,
   "metadata": {},
   "outputs": [],
   "source": [
    "path2 = r\"G:\\TseClient\\Data adjusted\"\n",
    "index = pd.read_excel(path2 + '\\IRX6XTPI0009.xls')[['<COL14>','<CLOSE>']].rename(columns = {'<COL14>':'jalaliDate','<CLOSE>':'Index'})\n",
    "index['Market_return'] =  index['Index'].pct_change(periods = 1)*100\n",
    "Index = PriceData.merge(index , on ='jalaliDate')\n",
    "Index = Index[['jalaliDate', 'date','week_of_year', 'year_of_year', 'Index',\n",
    "       'Market_return']].drop_duplicates().sort_values(by = ['date'])\n",
    "def weekRet(g):\n",
    "    g['MarketweekRet'] = (g.Index.iloc[-1] - g.Index.iloc[0])/g.Index.iloc[0] * 100\n",
    "    return g\n",
    "\n",
    "gg = Index.groupby(['year_of_year','week_of_year'])\n",
    "WeekIndex = gg.apply(weekRet)\n",
    "WeekIndex = WeekIndex[['year_of_year','week_of_year','MarketweekRet']]"
   ]
  },
  {
   "cell_type": "code",
   "execution_count": 149,
   "metadata": {
    "scrolled": true
   },
   "outputs": [],
   "source": [
    "PriceData = PriceData.merge(WeekIndex,on = ['year_of_year','week_of_year']).drop_duplicates().sort_values(by = ['symbol','date'])"
   ]
  },
  {
   "cell_type": "code",
   "execution_count": null,
   "metadata": {
    "scrolled": true
   },
   "outputs": [],
   "source": []
  },
  {
   "cell_type": "code",
   "execution_count": 156,
   "metadata": {
    "scrolled": true
   },
   "outputs": [
    {
     "data": {
      "text/html": [
       "<div>\n",
       "<style scoped>\n",
       "    .dataframe tbody tr th:only-of-type {\n",
       "        vertical-align: middle;\n",
       "    }\n",
       "\n",
       "    .dataframe tbody tr th {\n",
       "        vertical-align: top;\n",
       "    }\n",
       "\n",
       "    .dataframe thead th {\n",
       "        text-align: right;\n",
       "    }\n",
       "</style>\n",
       "<table border=\"1\" class=\"dataframe\">\n",
       "  <thead>\n",
       "    <tr style=\"text-align: right;\">\n",
       "      <th></th>\n",
       "      <th>jalaliDate</th>\n",
       "      <th>date</th>\n",
       "      <th>symbol</th>\n",
       "      <th>close_price</th>\n",
       "      <th>shrout</th>\n",
       "      <th>BookValue</th>\n",
       "      <th>date1</th>\n",
       "      <th>week_of_year</th>\n",
       "      <th>year_of_year</th>\n",
       "      <th>weekRet</th>\n",
       "      <th>yearRet</th>\n",
       "      <th>MarketweekRet</th>\n",
       "      <th>MarketCap</th>\n",
       "      <th>BookToMarket</th>\n",
       "    </tr>\n",
       "  </thead>\n",
       "  <tbody>\n",
       "    <tr>\n",
       "      <th>0</th>\n",
       "      <td>13900422</td>\n",
       "      <td>20110713</td>\n",
       "      <td>آ س پ</td>\n",
       "      <td>3100.0</td>\n",
       "      <td>20000000.0</td>\n",
       "      <td>573994.0</td>\n",
       "      <td>2011-07-13</td>\n",
       "      <td>28</td>\n",
       "      <td>2011</td>\n",
       "      <td>4.903226</td>\n",
       "      <td>NaN</td>\n",
       "      <td>-0.632147</td>\n",
       "      <td>620000</td>\n",
       "      <td>0.925797</td>\n",
       "    </tr>\n",
       "    <tr>\n",
       "      <th>1</th>\n",
       "      <td>13900425</td>\n",
       "      <td>20110716</td>\n",
       "      <td>آ س پ</td>\n",
       "      <td>3252.0</td>\n",
       "      <td>20000000.0</td>\n",
       "      <td>573994.0</td>\n",
       "      <td>2011-07-16</td>\n",
       "      <td>28</td>\n",
       "      <td>2011</td>\n",
       "      <td>4.903226</td>\n",
       "      <td>NaN</td>\n",
       "      <td>-0.632147</td>\n",
       "      <td>650400</td>\n",
       "      <td>0.882525</td>\n",
       "    </tr>\n",
       "    <tr>\n",
       "      <th>2</th>\n",
       "      <td>13900427</td>\n",
       "      <td>20110718</td>\n",
       "      <td>آ س پ</td>\n",
       "      <td>3264.0</td>\n",
       "      <td>20000000.0</td>\n",
       "      <td>573994.0</td>\n",
       "      <td>2011-07-18</td>\n",
       "      <td>29</td>\n",
       "      <td>2011</td>\n",
       "      <td>-4.656863</td>\n",
       "      <td>NaN</td>\n",
       "      <td>2.947585</td>\n",
       "      <td>652800</td>\n",
       "      <td>0.879280</td>\n",
       "    </tr>\n",
       "    <tr>\n",
       "      <th>3</th>\n",
       "      <td>13900428</td>\n",
       "      <td>20110719</td>\n",
       "      <td>آ س پ</td>\n",
       "      <td>3203.0</td>\n",
       "      <td>20000000.0</td>\n",
       "      <td>573994.0</td>\n",
       "      <td>2011-07-19</td>\n",
       "      <td>29</td>\n",
       "      <td>2011</td>\n",
       "      <td>-4.656863</td>\n",
       "      <td>NaN</td>\n",
       "      <td>2.947585</td>\n",
       "      <td>640600</td>\n",
       "      <td>0.896026</td>\n",
       "    </tr>\n",
       "    <tr>\n",
       "      <th>4</th>\n",
       "      <td>13900429</td>\n",
       "      <td>20110720</td>\n",
       "      <td>آ س پ</td>\n",
       "      <td>3147.0</td>\n",
       "      <td>20000000.0</td>\n",
       "      <td>573994.0</td>\n",
       "      <td>2011-07-20</td>\n",
       "      <td>29</td>\n",
       "      <td>2011</td>\n",
       "      <td>-4.656863</td>\n",
       "      <td>NaN</td>\n",
       "      <td>2.947585</td>\n",
       "      <td>629400</td>\n",
       "      <td>0.911970</td>\n",
       "    </tr>\n",
       "  </tbody>\n",
       "</table>\n",
       "</div>"
      ],
      "text/plain": [
       "   jalaliDate      date symbol  close_price      shrout  BookValue      date1  \\\n",
       "0    13900422  20110713  آ س پ       3100.0  20000000.0   573994.0 2011-07-13   \n",
       "1    13900425  20110716  آ س پ       3252.0  20000000.0   573994.0 2011-07-16   \n",
       "2    13900427  20110718  آ س پ       3264.0  20000000.0   573994.0 2011-07-18   \n",
       "3    13900428  20110719  آ س پ       3203.0  20000000.0   573994.0 2011-07-19   \n",
       "4    13900429  20110720  آ س پ       3147.0  20000000.0   573994.0 2011-07-20   \n",
       "\n",
       "   week_of_year  year_of_year   weekRet  yearRet  MarketweekRet  MarketCap  \\\n",
       "0            28          2011  4.903226      NaN      -0.632147     620000   \n",
       "1            28          2011  4.903226      NaN      -0.632147     650400   \n",
       "2            29          2011 -4.656863      NaN       2.947585     652800   \n",
       "3            29          2011 -4.656863      NaN       2.947585     640600   \n",
       "4            29          2011 -4.656863      NaN       2.947585     629400   \n",
       "\n",
       "   BookToMarket  \n",
       "0      0.925797  \n",
       "1      0.882525  \n",
       "2      0.879280  \n",
       "3      0.896026  \n",
       "4      0.911970  "
      ]
     },
     "execution_count": 156,
     "metadata": {},
     "output_type": "execute_result"
    }
   ],
   "source": [
    "PriceData['MarketCap']= PriceData['close_price'] * PriceData['shrout']/1e5\n",
    "PriceData['MarketCap'] = PriceData['MarketCap'].astype(int)\n",
    "PriceData['BookToMarket'] = PriceData['BookValue']/PriceData['MarketCap']\n",
    "PriceData = PriceData.reset_index(drop= True)\n",
    "PriceData.head()"
   ]
  },
  {
   "cell_type": "code",
   "execution_count": null,
   "metadata": {},
   "outputs": [],
   "source": []
  },
  {
   "cell_type": "code",
   "execution_count": 161,
   "metadata": {},
   "outputs": [],
   "source": [
    "def Factor(g):\n",
    "    Large = g.loc[g['MarketCap'] >= g['MarketCap'].quantile(0.9)]['weekRet'].mean()\n",
    "    Small = g.loc[g['MarketCap'] <= g['MarketCap'].quantile(0.1)]['weekRet'].mean()\n",
    "    \n",
    "    Value = g.loc[g['BookToMarket'] >= g['BookToMarket'].quantile(0.9)]['weekRet'].mean()\n",
    "    Growth = g.loc[g['BookToMarket'] <= g['BookToMarket'].quantile(0.1)]['weekRet'].mean()\n",
    "    \n",
    "    Winner = g.loc[g['yearRet'] >= g['yearRet'].quantile(0.9)]['weekRet'].mean()\n",
    "    Loser = g.loc[g['yearRet'] <= g['yearRet'].quantile(0.1)]['weekRet'].mean()\n",
    "\n",
    "    g['Winner_Loser'] = Winner - Loser\n",
    "    g['SMB'] = Small - Large\n",
    "    g['HML'] = Value - Growth\n",
    "    \n",
    "    g = g[['year_of_year','week_of_year','SMB','HML','Winner_Loser','MarketweekRet']].drop_duplicates(['year_of_year','week_of_year'])\n",
    "    return g\n",
    "\n",
    "WL = PriceData.groupby(['year_of_year','week_of_year'])\n",
    "Factors = WL.apply(Factor)\n",
    "Factors = Factors.reset_index(drop = True).drop(0)\n"
   ]
  },
  {
   "cell_type": "code",
   "execution_count": 163,
   "metadata": {},
   "outputs": [],
   "source": [
    "Factors.to_excel(path + '\\Analyzed Data'+'\\Factors.xlsx',index= False)"
   ]
  },
  {
   "cell_type": "code",
   "execution_count": null,
   "metadata": {},
   "outputs": [],
   "source": []
  },
  {
   "cell_type": "code",
   "execution_count": null,
   "metadata": {},
   "outputs": [],
   "source": []
  },
  {
   "cell_type": "code",
   "execution_count": null,
   "metadata": {},
   "outputs": [],
   "source": []
  },
  {
   "cell_type": "code",
   "execution_count": null,
   "metadata": {},
   "outputs": [],
   "source": []
  },
  {
   "cell_type": "code",
   "execution_count": null,
   "metadata": {},
   "outputs": [],
   "source": []
  },
  {
   "cell_type": "code",
   "execution_count": null,
   "metadata": {},
   "outputs": [],
   "source": []
  },
  {
   "cell_type": "code",
   "execution_count": null,
   "metadata": {},
   "outputs": [],
   "source": []
  },
  {
   "cell_type": "code",
   "execution_count": null,
   "metadata": {
    "scrolled": true
   },
   "outputs": [],
   "source": []
  },
  {
   "cell_type": "code",
   "execution_count": null,
   "metadata": {},
   "outputs": [],
   "source": [
    "Factors = pd.read_excel(path + '\\Analyzed Data'+'\\Factors.xlsx')"
   ]
  },
  {
   "cell_type": "code",
   "execution_count": null,
   "metadata": {},
   "outputs": [],
   "source": [
    "HolderData\n",
    "HolderData['date1'] = HolderData['date'].apply(vv4)\n",
    "HolderData['date1'] = pd.to_datetime(HolderData['date1']) \n",
    "HolderData['week_of_year'] = HolderData['date1'].dt.week \n",
    "HolderData['Month_of_year'] = HolderData['date1'].dt.month \n",
    "HolderData['year_of_year'] = HolderData['date1'].dt.year"
   ]
  },
  {
   "cell_type": "code",
   "execution_count": null,
   "metadata": {},
   "outputs": [],
   "source": [
    "ldates = HolderData.groupby(['symbol','year_of_year','Month_of_year','week_of_year']).last()\n",
    "ldates = ldates.reset_index()[['symbol','date']]\n"
   ]
  },
  {
   "cell_type": "code",
   "execution_count": null,
   "metadata": {},
   "outputs": [],
   "source": [
    "[1]*5"
   ]
  },
  {
   "cell_type": "code",
   "execution_count": null,
   "metadata": {
    "scrolled": true
   },
   "outputs": [],
   "source": [
    "fkey = zip(list(ldates.symbol),list(ldates.date))\n",
    "mapingdict = dict(zip(fkey,[1]*(len(ldates.symbol)+1)))\n",
    "HolderData['Last'] = HolderData.set_index(['symbol','date']).index.map(mapingdict)"
   ]
  },
  {
   "cell_type": "code",
   "execution_count": null,
   "metadata": {},
   "outputs": [],
   "source": [
    "WeeklyHolderData = HolderData.loc[HolderData.Last == 1]"
   ]
  },
  {
   "cell_type": "code",
   "execution_count": null,
   "metadata": {},
   "outputs": [],
   "source": [
    "for t in ['SMB','HML','Winner_Loser','MarketweekRet']: \n",
    "    print(t)\n",
    "    mapingdict = dict(zip(zip(list(Factors.year_of_year),list(Factors.week_of_year)),list(Factors[t])))\n",
    "    WeeklyHolderData[t] = WeeklyHolderData.set_index(['year_of_year','week_of_year']).index.map(mapingdict)"
   ]
  },
  {
   "cell_type": "code",
   "execution_count": null,
   "metadata": {
    "scrolled": true
   },
   "outputs": [],
   "source": [
    "fkey = zip(list(d.symbol),list(d.date))\n",
    "mapingdict = dict(zip(fkey,d.weekRet))\n",
    "WeeklyHolderData['weekRet'] = WeeklyHolderData.set_index(['symbol','date']).index.map(mapingdict)"
   ]
  },
  {
   "cell_type": "code",
   "execution_count": null,
   "metadata": {
    "scrolled": true
   },
   "outputs": [],
   "source": [
    "d"
   ]
  },
  {
   "cell_type": "code",
   "execution_count": null,
   "metadata": {},
   "outputs": [],
   "source": [
    "wg = WeekPriceData.groupby(['symbol'])\n",
    "def FourFactor(g):\n",
    "    try:\n",
    "        y = 'weekRet'\n",
    "        x = ['MarketweekRet','HML','SMB','Winner_Loser']\n",
    "        model = sm.OLS(g[y], sm.add_constant(g[x])).fit()\n",
    "        g['4-Residual'] = g ['weekRet'] - (model.params[0] + model.params[1]*g['MarketweekRet'] + model.params[2]*g['HML']  + model.params[3]*g['SMB']  + model.params[4]*g['Winner_Loser']) \n",
    "    except:\n",
    "        print(g.symbol.iloc[0])\n",
    "        g = pd.DataFrame()\n",
    "    return g\n",
    "\n",
    "def ThreeFactor(g):\n",
    "    try:\n",
    "        y = 'weekRet'\n",
    "        x = ['MarketweekRet','HML','SMB']\n",
    "        model = sm.OLS(g[y], sm.add_constant(g[x])).fit()\n",
    "        g['3-Residual'] = g ['weekRet'] - (model.params[0] + model.params[1]*g['MarketweekRet'] + model.params[2]*g['HML']  + model.params[3]*g['SMB'] ) \n",
    "    except:\n",
    "        print(g.symbol.iloc[0])\n",
    "        g = pd.DataFrame()\n",
    "    return g\n",
    "re = wg.apply(FourFactor)\n",
    "re2 = wg.apply(ThreeFactor)\n",
    "re['3-Residual'] = re2['3-Residual']\n",
    "re = re.reset_index(drop=True).drop(columns = ['group_name'])"
   ]
  },
  {
   "cell_type": "code",
   "execution_count": null,
   "metadata": {},
   "outputs": [],
   "source": [
    "df = HolderData "
   ]
  },
  {
   "cell_type": "code",
   "execution_count": null,
   "metadata": {},
   "outputs": [],
   "source": []
  }
 ],
 "metadata": {
  "kernelspec": {
   "display_name": "Python 3",
   "language": "python",
   "name": "python3"
  },
  "language_info": {
   "codemirror_mode": {
    "name": "ipython",
    "version": 3
   },
   "file_extension": ".py",
   "mimetype": "text/x-python",
   "name": "python",
   "nbconvert_exporter": "python",
   "pygments_lexer": "ipython3",
   "version": "3.7.3"
  }
 },
 "nbformat": 4,
 "nbformat_minor": 2
}
